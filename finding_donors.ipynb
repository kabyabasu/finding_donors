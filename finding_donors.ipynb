{
 "cells": [
  {
   "cell_type": "markdown",
   "metadata": {},
   "source": [
    "# Machine Learning Engineer Nanodegree\n",
    "## Supervised Learning\n",
    "## Project: Finding Donors for *CharityML*"
   ]
  },
  {
   "cell_type": "markdown",
   "metadata": {},
   "source": [
    "Welcome to the second project of the Machine Learning Engineer Nanodegree! In this notebook, some template code has already been provided for you, and it will be your job to implement the additional functionality necessary to successfully complete this project. Sections that begin with **'Implementation'** in the header indicate that the following block of code will require additional functionality which you must provide. Instructions will be provided for each section and the specifics of the implementation are marked in the code block with a `'TODO'` statement. Please be sure to read the instructions carefully!\n",
    "\n",
    "In addition to implementing code, there will be questions that you must answer which relate to the project and your implementation. Each section where you will answer a question is preceded by a **'Question X'** header. Carefully read each question and provide thorough answers in the following text boxes that begin with **'Answer:'**. Your project submission will be evaluated based on your answers to each of the questions and the implementation you provide.  \n",
    "\n",
    ">**Note:** Code and Markdown cells can be executed using the **Shift + Enter** keyboard shortcut. In addition, Markdown cells can be edited by typically double-clicking the cell to enter edit mode."
   ]
  },
  {
   "cell_type": "markdown",
   "metadata": {},
   "source": [
    "## Getting Started\n",
    "\n",
    "In this project, you will employ several supervised algorithms of your choice to accurately model individuals' income using data collected from the 1994 U.S. Census. You will then choose the best candidate algorithm from preliminary results and further optimize this algorithm to best model the data. Your goal with this implementation is to construct a model that accurately predicts whether an individual makes more than $50,000. This sort of task can arise in a non-profit setting, where organizations survive on donations.  Understanding an individual's income can help a non-profit better understand how large of a donation to request, or whether or not they should reach out to begin with.  While it can be difficult to determine an individual's general income bracket directly from public sources, we can (as we will see) infer this value from other publically available features. \n",
    "\n",
    "The dataset for this project originates from the [UCI Machine Learning Repository](https://archive.ics.uci.edu/ml/datasets/Census+Income). The datset was donated by Ron Kohavi and Barry Becker, after being published in the article _\"Scaling Up the Accuracy of Naive-Bayes Classifiers: A Decision-Tree Hybrid\"_. You can find the article by Ron Kohavi [online](https://www.aaai.org/Papers/KDD/1996/KDD96-033.pdf). The data we investigate here consists of small changes to the original dataset, such as removing the `'fnlwgt'` feature and records with missing or ill-formatted entries."
   ]
  },
  {
   "cell_type": "markdown",
   "metadata": {},
   "source": [
    "----\n",
    "## Exploring the Data\n",
    "Run the code cell below to load necessary Python libraries and load the census data. Note that the last column from this dataset, `'income'`, will be our target label (whether an individual makes more than, or at most, $50,000 annually). All other columns are features about each individual in the census database."
   ]
  },
  {
   "cell_type": "code",
   "execution_count": 11,
   "metadata": {
    "collapsed": false
   },
   "outputs": [
    {
     "data": {
      "text/html": [
       "<div>\n",
       "<table border=\"1\" class=\"dataframe\">\n",
       "  <thead>\n",
       "    <tr style=\"text-align: right;\">\n",
       "      <th></th>\n",
       "      <th>age</th>\n",
       "      <th>workclass</th>\n",
       "      <th>education_level</th>\n",
       "      <th>education-num</th>\n",
       "      <th>marital-status</th>\n",
       "      <th>occupation</th>\n",
       "      <th>relationship</th>\n",
       "      <th>race</th>\n",
       "      <th>sex</th>\n",
       "      <th>capital-gain</th>\n",
       "      <th>capital-loss</th>\n",
       "      <th>hours-per-week</th>\n",
       "      <th>native-country</th>\n",
       "      <th>income</th>\n",
       "    </tr>\n",
       "  </thead>\n",
       "  <tbody>\n",
       "    <tr>\n",
       "      <th>0</th>\n",
       "      <td>39</td>\n",
       "      <td>State-gov</td>\n",
       "      <td>Bachelors</td>\n",
       "      <td>13.0</td>\n",
       "      <td>Never-married</td>\n",
       "      <td>Adm-clerical</td>\n",
       "      <td>Not-in-family</td>\n",
       "      <td>White</td>\n",
       "      <td>Male</td>\n",
       "      <td>2174.0</td>\n",
       "      <td>0.0</td>\n",
       "      <td>40.0</td>\n",
       "      <td>United-States</td>\n",
       "      <td>&lt;=50K</td>\n",
       "    </tr>\n",
       "  </tbody>\n",
       "</table>\n",
       "</div>"
      ],
      "text/plain": [
       "   age   workclass education_level  education-num  marital-status  \\\n",
       "0   39   State-gov       Bachelors           13.0   Never-married   \n",
       "\n",
       "      occupation    relationship    race    sex  capital-gain  capital-loss  \\\n",
       "0   Adm-clerical   Not-in-family   White   Male        2174.0           0.0   \n",
       "\n",
       "   hours-per-week  native-country income  \n",
       "0            40.0   United-States  <=50K  "
      ]
     },
     "metadata": {},
     "output_type": "display_data"
    }
   ],
   "source": [
    "# Import libraries necessary for this project\n",
    "import numpy as np\n",
    "import pandas as pd\n",
    "from time import time\n",
    "from IPython.display import display # Allows the use of display() for DataFrames\n",
    "\n",
    "# Import supplementary visualization code visuals.py\n",
    "import visuals as vs\n",
    "\n",
    "# Pretty display for notebooks\n",
    "%matplotlib inline\n",
    "\n",
    "# Load the Census dataset\n",
    "data = pd.read_csv(\"census.csv\")\n",
    "\n",
    "# Success - Display the first record\n",
    "display(data.head(n=1))"
   ]
  },
  {
   "cell_type": "markdown",
   "metadata": {},
   "source": [
    "### Implementation: Data Exploration\n",
    "A cursory investigation of the dataset will determine how many individuals fit into either group, and will tell us about the percentage of these individuals making more than \\$50,000. In the code cell below, you will need to compute the following:\n",
    "- The total number of records, `'n_records'`\n",
    "- The number of individuals making more than \\$50,000 annually, `'n_greater_50k'`.\n",
    "- The number of individuals making at most \\$50,000 annually, `'n_at_most_50k'`.\n",
    "- The percentage of individuals making more than \\$50,000 annually, `'greater_percent'`.\n",
    "\n",
    "**Hint:** You may need to look at the table above to understand how the `'income'` entries are formatted. "
   ]
  },
  {
   "cell_type": "code",
   "execution_count": 12,
   "metadata": {
    "collapsed": false
   },
   "outputs": [
    {
     "name": "stdout",
     "output_type": "stream",
     "text": [
      "Total number of records: 45222\n",
      "Individuals making more than $50,000: 11208\n",
      "Individuals making at most $50,000: 34014\n",
      "Percentage of individuals making more than $50,000: 24.78%\n"
     ]
    }
   ],
   "source": [
    "# TODO: Total number of records\n",
    "n_records = len(data)\n",
    "# TODO: Number of records where individual's income is more than $50,000\n",
    "n_greater_50k = len(data[(data[\"income\"]==\">50K\")])\n",
    "# TODO: Number of records where individual's income is at most $50,000\n",
    "n_at_most_50k = len(data[(data[\"income\"]==\"<=50K\")])\n",
    "\n",
    "# TODO: Percentage of individuals whose income is more than $50,000\n",
    "greater_percent = float(n_greater_50k)/n_records*100\n",
    "# Print the results\n",
    "print \"Total number of records: {}\".format(n_records)\n",
    "print \"Individuals making more than $50,000: {}\".format(n_greater_50k)\n",
    "print \"Individuals making at most $50,000: {}\".format(n_at_most_50k)\n",
    "print \"Percentage of individuals making more than $50,000: {:.2f}%\".format(greater_percent)"
   ]
  },
  {
   "cell_type": "markdown",
   "metadata": {},
   "source": [
    "----\n",
    "## Preparing the Data\n",
    "Before data can be used as input for machine learning algorithms, it often must be cleaned, formatted, and restructured — this is typically known as **preprocessing**. Fortunately, for this dataset, there are no invalid or missing entries we must deal with, however, there are some qualities about certain features that must be adjusted. This preprocessing can help tremendously with the outcome and predictive power of nearly all learning algorithms."
   ]
  },
  {
   "cell_type": "markdown",
   "metadata": {},
   "source": [
    "### Transforming Skewed Continuous Features\n",
    "A dataset may sometimes contain at least one feature whose values tend to lie near a single number, but will also have a non-trivial number of vastly larger or smaller values than that single number.  Algorithms can be sensitive to such distributions of values and can underperform if the range is not properly normalized. With the census dataset two features fit this description: '`capital-gain'` and `'capital-loss'`. \n",
    "\n",
    "Run the code cell below to plot a histogram of these two features. Note the range of the values present and how they are distributed."
   ]
  },
  {
   "cell_type": "code",
   "execution_count": 13,
   "metadata": {
    "collapsed": false
   },
   "outputs": [
    {
     "data": {
      "image/png": "[encoded data removed]",
      "text/plain": [
       "<matplotlib.figure.Figure at 0x7f869f0>"
      ]
     },
     "metadata": {},
     "output_type": "display_data"
    }
   ],
   "source": [
    "# Split the data into features and target label\n",
    "income_raw = data['income']\n",
    "features_raw = data.drop('income', axis = 1)\n",
    "\n",
    "# Visualize skewed continuous features of original data\n",
    "vs.distribution(data)"
   ]
  },
  {
   "cell_type": "markdown",
   "metadata": {},
   "source": [
    "For highly-skewed feature distributions such as `'capital-gain'` and `'capital-loss'`, it is common practice to apply a <a href=\"https://en.wikipedia.org/wiki/Data_transformation_(statistics)\">logarithmic transformation</a> on the data so that the very large and very small values do not negatively affect the performance of a learning algorithm. Using a logarithmic transformation significantly reduces the range of values caused by outliers. Care must be taken when applying this transformation however: The logarithm of `0` is undefined, so we must translate the values by a small amount above `0` to apply the the logarithm successfully.\n",
    "\n",
    "Run the code cell below to perform a transformation on the data and visualize the results. Again, note the range of values and how they are distributed. "
   ]
  },
  {
   "cell_type": "code",
   "execution_count": 14,
   "metadata": {
    "collapsed": false
   },
   "outputs": [
    {
     "data": {
      "image/png": "[encoded data removed]",
      "text/plain": [
       "<matplotlib.figure.Figure at 0x7de8090>"
      ]
     },
     "metadata": {},
     "output_type": "display_data"
    }
   ],
   "source": [
    "# Log-transform the skewed features\n",
    "skewed = ['capital-gain', 'capital-loss']\n",
    "features_raw[skewed] = data[skewed].apply(lambda x: np.log(x + 1))\n",
    "\n",
    "# Visualize the new log distributions\n",
    "vs.distribution(features_raw, transformed = True)"
   ]
  },
  {
   "cell_type": "markdown",
   "metadata": {},
   "source": [
    "### Normalizing Numerical Features\n",
    "In addition to performing transformations on features that are highly skewed, it is often good practice to perform some type of scaling on numerical features. Applying a scaling to the data does not change the shape of each feature's distribution (such as `'capital-gain'` or `'capital-loss'` above); however, normalization ensures that each feature is treated equally when applying supervised learners. Note that once scaling is applied, observing the data in its raw form will no longer have the same original meaning, as exampled below.\n",
    "\n",
    "Run the code cell below to normalize each numerical feature. We will use [`sklearn.preprocessing.MinMaxScaler`](http://scikit-learn.org/stable/modules/generated/sklearn.preprocessing.MinMaxScaler.html) for this."
   ]
  },
  {
   "cell_type": "code",
   "execution_count": 15,
   "metadata": {
    "collapsed": false
   },
   "outputs": [
    {
     "data": {
      "text/html": [
       "<div>\n",
       "<table border=\"1\" class=\"dataframe\">\n",
       "  <thead>\n",
       "    <tr style=\"text-align: right;\">\n",
       "      <th></th>\n",
       "      <th>age</th>\n",
       "      <th>workclass</th>\n",
       "      <th>education_level</th>\n",
       "      <th>education-num</th>\n",
       "      <th>marital-status</th>\n",
       "      <th>occupation</th>\n",
       "      <th>relationship</th>\n",
       "      <th>race</th>\n",
       "      <th>sex</th>\n",
       "      <th>capital-gain</th>\n",
       "      <th>capital-loss</th>\n",
       "      <th>hours-per-week</th>\n",
       "      <th>native-country</th>\n",
       "    </tr>\n",
       "  </thead>\n",
       "  <tbody>\n",
       "    <tr>\n",
       "      <th>0</th>\n",
       "      <td>0.30137</td>\n",
       "      <td>State-gov</td>\n",
       "      <td>Bachelors</td>\n",
       "      <td>0.8</td>\n",
       "      <td>Never-married</td>\n",
       "      <td>Adm-clerical</td>\n",
       "      <td>Not-in-family</td>\n",
       "      <td>White</td>\n",
       "      <td>Male</td>\n",
       "      <td>0.02174</td>\n",
       "      <td>0.0</td>\n",
       "      <td>0.397959</td>\n",
       "      <td>United-States</td>\n",
       "    </tr>\n",
       "  </tbody>\n",
       "</table>\n",
       "</div>"
      ],
      "text/plain": [
       "       age   workclass education_level  education-num  marital-status  \\\n",
       "0  0.30137   State-gov       Bachelors            0.8   Never-married   \n",
       "\n",
       "      occupation    relationship    race    sex  capital-gain  capital-loss  \\\n",
       "0   Adm-clerical   Not-in-family   White   Male       0.02174           0.0   \n",
       "\n",
       "   hours-per-week  native-country  \n",
       "0        0.397959   United-States  "
      ]
     },
     "metadata": {},
     "output_type": "display_data"
    }
   ],
   "source": [
    "# Import sklearn.preprocessing.StandardScaler\n",
    "from sklearn.preprocessing import MinMaxScaler\n",
    "\n",
    "# Initialize a scaler, then apply it to the features\n",
    "scaler = MinMaxScaler()\n",
    "numerical = ['age', 'education-num', 'capital-gain', 'capital-loss', 'hours-per-week']\n",
    "features_raw[numerical] = scaler.fit_transform(data[numerical])\n",
    "\n",
    "# Show an example of a record with scaling applied\n",
    "display(features_raw.head(n = 1))"
   ]
  },
  {
   "cell_type": "markdown",
   "metadata": {},
   "source": [
    "### Implementation: Data Preprocessing\n",
    "\n",
    "From the table in **Exploring the Data** above, we can see there are several features for each record that are non-numeric. Typically, learning algorithms expect input to be numeric, which requires that non-numeric features (called *categorical variables*) be converted. One popular way to convert categorical variables is by using the **one-hot encoding** scheme. One-hot encoding creates a _\"dummy\"_ variable for each possible category of each non-numeric feature. For example, assume `someFeature` has three possible entries: `A`, `B`, or `C`. We then encode this feature into `someFeature_A`, `someFeature_B` and `someFeature_C`.\n",
    "\n",
    "|   | someFeature |                    | someFeature_A | someFeature_B | someFeature_C |\n",
    "| :-: | :-: |                            | :-: | :-: | :-: |\n",
    "| 0 |  B  |  | 0 | 1 | 0 |\n",
    "| 1 |  C  | ----> one-hot encode ----> | 0 | 0 | 1 |\n",
    "| 2 |  A  |  | 1 | 0 | 0 |\n",
    "\n",
    "Additionally, as with the non-numeric features, we need to convert the non-numeric target label, `'income'` to numerical values for the learning algorithm to work. Since there are only two possible categories for this label (\"<=50K\" and \">50K\"), we can avoid using one-hot encoding and simply encode these two categories as `0` and `1`, respectively. In code cell below, you will need to implement the following:\n",
    " - Use [`pandas.get_dummies()`](http://pandas.pydata.org/pandas-docs/stable/generated/pandas.get_dummies.html?highlight=get_dummies#pandas.get_dummies) to perform one-hot encoding on the `'features_raw'` data.\n",
    " - Convert the target label `'income_raw'` to numerical entries.\n",
    "   - Set records with \"<=50K\" to `0` and records with \">50K\" to `1`."
   ]
  },
  {
   "cell_type": "code",
   "execution_count": 16,
   "metadata": {
    "collapsed": false,
    "scrolled": true
   },
   "outputs": [
    {
     "name": "stdout",
     "output_type": "stream",
     "text": [
      "103 total features after one-hot encoding.\n",
      "['age', 'education-num', 'capital-gain', 'capital-loss', 'hours-per-week', 'workclass_ Federal-gov', 'workclass_ Local-gov', 'workclass_ Private', 'workclass_ Self-emp-inc', 'workclass_ Self-emp-not-inc', 'workclass_ State-gov', 'workclass_ Without-pay', 'education_level_ 10th', 'education_level_ 11th', 'education_level_ 12th', 'education_level_ 1st-4th', 'education_level_ 5th-6th', 'education_level_ 7th-8th', 'education_level_ 9th', 'education_level_ Assoc-acdm', 'education_level_ Assoc-voc', 'education_level_ Bachelors', 'education_level_ Doctorate', 'education_level_ HS-grad', 'education_level_ Masters', 'education_level_ Preschool', 'education_level_ Prof-school', 'education_level_ Some-college', 'marital-status_ Divorced', 'marital-status_ Married-AF-spouse', 'marital-status_ Married-civ-spouse', 'marital-status_ Married-spouse-absent', 'marital-status_ Never-married', 'marital-status_ Separated', 'marital-status_ Widowed', 'occupation_ Adm-clerical', 'occupation_ Armed-Forces', 'occupation_ Craft-repair', 'occupation_ Exec-managerial', 'occupation_ Farming-fishing', 'occupation_ Handlers-cleaners', 'occupation_ Machine-op-inspct', 'occupation_ Other-service', 'occupation_ Priv-house-serv', 'occupation_ Prof-specialty', 'occupation_ Protective-serv', 'occupation_ Sales', 'occupation_ Tech-support', 'occupation_ Transport-moving', 'relationship_ Husband', 'relationship_ Not-in-family', 'relationship_ Other-relative', 'relationship_ Own-child', 'relationship_ Unmarried', 'relationship_ Wife', 'race_ Amer-Indian-Eskimo', 'race_ Asian-Pac-Islander', 'race_ Black', 'race_ Other', 'race_ White', 'sex_ Female', 'sex_ Male', 'native-country_ Cambodia', 'native-country_ Canada', 'native-country_ China', 'native-country_ Columbia', 'native-country_ Cuba', 'native-country_ Dominican-Republic', 'native-country_ Ecuador', 'native-country_ El-Salvador', 'native-country_ England', 'native-country_ France', 'native-country_ Germany', 'native-country_ Greece', 'native-country_ Guatemala', 'native-country_ Haiti', 'native-country_ Holand-Netherlands', 'native-country_ Honduras', 'native-country_ Hong', 'native-country_ Hungary', 'native-country_ India', 'native-country_ Iran', 'native-country_ Ireland', 'native-country_ Italy', 'native-country_ Jamaica', 'native-country_ Japan', 'native-country_ Laos', 'native-country_ Mexico', 'native-country_ Nicaragua', 'native-country_ Outlying-US(Guam-USVI-etc)', 'native-country_ Peru', 'native-country_ Philippines', 'native-country_ Poland', 'native-country_ Portugal', 'native-country_ Puerto-Rico', 'native-country_ Scotland', 'native-country_ South', 'native-country_ Taiwan', 'native-country_ Thailand', 'native-country_ Trinadad&Tobago', 'native-country_ United-States', 'native-country_ Vietnam', 'native-country_ Yugoslavia']\n"
     ]
    }
   ],
   "source": [
    "# TODO: One-hot encode the 'features_raw' data using pandas.get_dummies()\n",
    "features = pd.get_dummies(features_raw)\n",
    "\n",
    "# TODO: Encode the 'income_raw' data to numerical values\n",
    "income = np.where(income_raw == \"<=50K\",0,1)\n",
    "\n",
    "# Print the number of features after one-hot encoding\n",
    "encoded = list(features.columns)\n",
    "print \"{} total features after one-hot encoding.\".format(len(encoded))\n",
    "\n",
    "# Uncomment the following line to see the encoded feature names\n",
    "print encoded"
   ]
  },
  {
   "cell_type": "markdown",
   "metadata": {},
   "source": [
    "### Shuffle and Split Data\n",
    "Now all _categorical variables_ have been converted into numerical features, and all numerical features have been normalized. As always, we will now split the data (both features and their labels) into training and test sets. 80% of the data will be used for training and 20% for testing.\n",
    "\n",
    "Run the code cell below to perform this split."
   ]
  },
  {
   "cell_type": "code",
   "execution_count": 17,
   "metadata": {
    "collapsed": false
   },
   "outputs": [
    {
     "name": "stdout",
     "output_type": "stream",
     "text": [
      "Training set has 36177 samples.\n",
      "Testing set has 9045 samples.\n"
     ]
    },
    {
     "name": "stderr",
     "output_type": "stream",
     "text": [
      "C:\\Program Files\\Anaconda2\\lib\\site-packages\\sklearn\\cross_validation.py:44: DeprecationWarning: This module was deprecated in version 0.18 in favor of the model_selection module into which all the refactored classes and functions are moved. Also note that the interface of the new CV iterators are different from that of this module. This module will be removed in 0.20.\n",
      "  \"This module will be removed in 0.20.\", DeprecationWarning)\n"
     ]
    }
   ],
   "source": [
    "# Import train_test_split\n",
    "from sklearn.cross_validation import train_test_split\n",
    "\n",
    "# Split the 'features' and 'income' data into training and testing sets\n",
    "X_train, X_test, y_train, y_test = train_test_split(features, income, test_size = 0.2, random_state = 0)\n",
    "\n",
    "# Show the results of the split\n",
    "print \"Training set has {} samples.\".format(X_train.shape[0])\n",
    "print \"Testing set has {} samples.\".format(X_test.shape[0])"
   ]
  },
  {
   "cell_type": "markdown",
   "metadata": {},
   "source": [
    "----\n",
    "## Evaluating Model Performance\n",
    "In this section, we will investigate four different algorithms, and determine which is best at modeling the data. Three of these algorithms will be supervised learners of your choice, and the fourth algorithm is known as a *naive predictor*."
   ]
  },
  {
   "cell_type": "markdown",
   "metadata": {},
   "source": [
    "### Metrics and the Naive Predictor\n",
    "*CharityML*, equipped with their research, knows individuals that make more than \\$50,000 are most likely to donate to their charity. Because of this, *CharityML* is particularly interested in predicting who makes more than \\$50,000 accurately. It would seem that using **accuracy** as a metric for evaluating a particular model's performace would be appropriate. Additionally, identifying someone that *does not* make more than \\$50,000 as someone who does would be detrimental to *CharityML*, since they are looking to find individuals willing to donate. Therefore, a model's ability to precisely predict those that make more than \\$50,000 is *more important* than the model's ability to **recall** those individuals. We can use **F-beta score** as a metric that considers both precision and recall:\n",
    "\n",
    "$$ F_{\\beta} = (1 + \\beta^2) \\cdot \\frac{precision \\cdot recall}{\\left( \\beta^2 \\cdot precision \\right) + recall} $$\n",
    "\n",
    "In particular, when $\\beta = 0.5$, more emphasis is placed on precision. This is called the **F$_{0.5}$ score** (or F-score for simplicity).\n",
    "\n",
    "Looking at the distribution of classes (those who make at most \\$50,000, and those who make more), it's clear most individuals do not make more than \\$50,000. This can greatly affect **accuracy**, since we could simply say *\"this person does not make more than \\$50,000\"* and generally be right, without ever looking at the data! Making such a statement would be called **naive**, since we have not considered any information to substantiate the claim. It is always important to consider the *naive prediction* for your data, to help establish a benchmark for whether a model is performing well. That been said, using that prediction would be pointless: If we predicted all people made less than \\$50,000, *CharityML* would identify no one as donors. "
   ]
  },
  {
   "cell_type": "markdown",
   "metadata": {},
   "source": [
    "### Question 1 - Naive Predictor Performace\n",
    "*If we chose a model that always predicted an individual made more than \\$50,000, what would that model's accuracy and F-score be on this dataset?*  \n",
    "**Note:** You must use the code cell below and assign your results to `'accuracy'` and `'fscore'` to be used later."
   ]
  },
  {
   "cell_type": "code",
   "execution_count": 18,
   "metadata": {
    "collapsed": false
   },
   "outputs": [
    {
     "name": "stdout",
     "output_type": "stream",
     "text": [
      "Naive Predictor: [Accuracy score: 0.2478, F-score: 1.0583]\n"
     ]
    }
   ],
   "source": [
    "# TODO: Calculate accuracy\n",
    "#Accuracy = (Number of elements correctly classified)/(Total elements)\n",
    "Number_of_elements_correctly_classified = n_greater_50k\n",
    "Total_elements = n_records\n",
    "accuracy = float(Number_of_elements_correctly_classified)/Total_elements\n",
    "\n",
    "# TODO: Calculate F-score using the formula above for beta = 0.5\n",
    "#precision = TP/(TP+FP)\n",
    "#recall=TP/number of positive cases\n",
    "TP=n_greater_50k\n",
    "FP=n_at_most_50k\n",
    "number_of_positive_cases=n_greater_50k\n",
    "precision = float(TP)/(TP+FP)\n",
    "recall =float(TP)/number_of_positive_cases\n",
    "fscore = 1+(0.5**2)*((precision*recall)/(((0.5**2)*precision)+recall))\n",
    "\n",
    "# Print the results \n",
    "print \"Naive Predictor: [Accuracy score: {:.4f}, F-score: {:.4f}]\".format(accuracy, fscore)"
   ]
  },
  {
   "cell_type": "markdown",
   "metadata": {},
   "source": [
    "###  Supervised Learning Models\n",
    "**The following supervised learning models are currently available in** [`scikit-learn`](http://scikit-learn.org/stable/supervised_learning.html) **that you may choose from:**\n",
    "- Gaussian Naive Bayes (GaussianNB)\n",
    "- Decision Trees\n",
    "- Ensemble Methods (Bagging, AdaBoost, Random Forest, Gradient Boosting)\n",
    "- K-Nearest Neighbors (KNeighbors)\n",
    "- Stochastic Gradient Descent Classifier (SGDC)\n",
    "- Support Vector Machines (SVM)\n",
    "- Logistic Regression"
   ]
  },
  {
   "cell_type": "markdown",
   "metadata": {},
   "source": [
    "### Question 2 - Model Application\n",
    "List three of the supervised learning models above that are appropriate for this problem that you will test on the census data. For each model chosen\n",
    "- *Describe one real-world application in industry where the model can be applied.* (You may need to do research for this — give references!)\n",
    "- *What are the strengths of the model; when does it perform well?*\n",
    "- *What are the weaknesses of the model; when does it perform poorly?*\n",
    "- *What makes this model a good candidate for the problem, given what you know about the data?*"
   ]
  },
  {
   "cell_type": "markdown",
   "metadata": {},
   "source": [
    "**Answer: **\n",
    "*Three Supervised Learning model that can be used are :*\n",
    "\n",
    "*1.Gaussian Naive Bayes*\n",
    "(A)Real world application : \n",
    "Gaussian Naive Bayes can be used document classification.For exmple News can be classied into technology,politics,science etc and can be feed into usres time line.Not sure if the news aggregator companies like inShort \n",
    "use the Gaussian Naive Bayes or other advanced alogrithm for such tasks.\n",
    "\n",
    "(B)Strenghts: \n",
    "Naive Bayes is a simple and easy to implement algorithm.\n",
    "Due to its simplicity, this algorithm might outperform more complex models when the data set isn’t large enough.\n",
    "\n",
    "(C)weaknesses:\n",
    "Dependencies among two varriable can not be represented by Naive Bayes\n",
    "\n",
    "(D)Good Candidate:\n",
    "Here with Naive bayes we can easyliy sepearete the people who earn more then 50K then the others.As naive bayes is a very simple alogorithm this will help the impliment easy.\n",
    "\n",
    "\n",
    "\n",
    "\n",
    "*2.Decission Tree *\n",
    "\n",
    "(A)Real world application : \n",
    "Decission tree can be used in any statistical problem especially where we need visuallization for example a bussiness decission where you need to present your call to a board.\n",
    "There are numerous area where we use decision trees at business decisions such as:\n",
    "\n",
    "    whether to increase capacity vs outsourcing to fulfil demand\n",
    "    whether to purchase cars for company car fleet or to get them on lease\n",
    "    deciding on when to launch a new product\n",
    "    deciding on which celebrity to endorse your product.\n",
    "    \n",
    "(B)Strenths :\n",
    "\n",
    "The greatest advanatage of decission tree is its visullization power.We can present rational behind our decission.\n",
    "\n",
    "(C)weaknesses:\n",
    "\n",
    "When the number of feature increasses then decission tree will become very complex and computationally expensive also the accuracy may go down in that case.\n",
    "\n",
    "(D)Good Candiadte:\n",
    "\n",
    "For the current problem this is a good candidate beause the number of feature is less in this case.\n",
    "\n",
    "\n",
    "\n",
    "*3.Logistic Regrssion* \n",
    "(A)Real world application : \n",
    "\n",
    "Real world application of Logistic regression are\n",
    "\n",
    "    1.Image Segmentation and Categorization\n",
    "    2.Geographic Image Processing\n",
    "    3.Handwriting recognition\n",
    "    4.Healthcare : Analyzing a group of over million people for myocardial infarction within a period of 10 years is an      application area of logistic regression.\n",
    "    5.Prediction whether a person is depressed or not based on bag of words from the corpus seems to be conveniently solvable using logistic regression and SVM.\n",
    "    \n",
    "(B)Strenths :\n",
    "     logistic regression provides a quantified value for the strength of the association adjusting for other variables (removes confounding effects)\n",
    "\n",
    "(C)weaknesses:\n",
    "\n",
    "We need enough participants with each possible set of explanatory variable. Using interaction or adding factors that a rare therefore reduce considerably the power of the analysis. This has to be carefully considered at the planning phase to make sure the sample size is large enough.\n",
    "\n",
    "(D)Good Candiadte:\n",
    "This is a binary problem that is why we can use LR for this problem\n"
   ]
  },
  {
   "cell_type": "markdown",
   "metadata": {},
   "source": [
    "### Implementation - Creating a Training and Predicting Pipeline\n",
    "To properly evaluate the performance of each model you've chosen, it's important that you create a training and predicting pipeline that allows you to quickly and effectively train models using various sizes of training data and perform predictions on the testing data. Your implementation here will be used in the following section.\n",
    "In the code block below, you will need to implement the following:\n",
    " - Import `fbeta_score` and `accuracy_score` from [`sklearn.metrics`](http://scikit-learn.org/stable/modules/classes.html#sklearn-metrics-metrics).\n",
    " - Fit the learner to the sampled training data and record the training time.\n",
    " - Perform predictions on the test data `X_test`, and also on the first 300 training points `X_train[:300]`.\n",
    "   - Record the total prediction time.\n",
    " - Calculate the accuracy score for both the training subset and testing set.\n",
    " - Calculate the F-score for both the training subset and testing set.\n",
    "   - Make sure that you set the `beta` parameter!"
   ]
  },
  {
   "cell_type": "code",
   "execution_count": 19,
   "metadata": {
    "collapsed": false
   },
   "outputs": [],
   "source": [
    "# TODO: Import two metrics from sklearn - fbeta_score and accuracy_score\n",
    "from sklearn.metrics import fbeta_score\n",
    "from sklearn.metrics import accuracy_score\n",
    "\n",
    "\n",
    "def train_predict(learner, sample_size, X_train, y_train, X_test, y_test): \n",
    "    '''\n",
    "    inputs:\n",
    "       - learner: the learning algorithm to be trained and predicted on\n",
    "       - sample_size: the size of samples (number) to be drawn from training set\n",
    "       - X_train: features training set\n",
    "       - y_train: income training set\n",
    "       - X_test: features testing set\n",
    "       - y_test: income testing set\n",
    "    '''\n",
    "    \n",
    "    results = {}\n",
    "    \n",
    "    # TODO: Fit the learner to the training data using slicing with 'sample_size'\n",
    "    X_train=X_train[:sample_size]\n",
    "    y_train=y_train[:sample_size]\n",
    "    \n",
    "    start = time() # Get start time\n",
    "    learner=learner.fit(X_train,y_train)\n",
    "    end = time() # Get end time\n",
    "    \n",
    "    # TODO: Calculate the training time\n",
    "    results['train_time'] = end-start\n",
    "        \n",
    "    # TODO: Get the predictions on the test set,\n",
    "    #       then get predictions on the first 300 training samples\n",
    "    start = time() # Get start time\n",
    "    predictions_test = learner.predict(X_test)\n",
    "    predictions_train = learner.predict(X_train)\n",
    "    end = time() # Get end time\n",
    "    \n",
    "    # TODO: Calculate the total prediction time\n",
    "    results['pred_time'] = end - start\n",
    "            \n",
    "    # TODO: Compute accuracy on the first 300 training samples\n",
    "    results['acc_train'] = accuracy_score(y_train,predictions_train)\n",
    "        \n",
    "    # TODO: Compute accuracy on test set\n",
    "    results['acc_test'] = accuracy_score(y_test,predictions_test)\n",
    "    \n",
    "    # TODO: Compute F-score on the the first 300 training samples\n",
    "    results['f_train'] = fbeta_score(y_train, predictions_train, beta=0.5)\n",
    "        \n",
    "    # TODO: Compute F-score on the test set\n",
    "    results['f_test'] = fbeta_score(y_test, predictions_test, beta=0.5)\n",
    "       \n",
    "    # Success\n",
    "    print \"{} trained on {} samples.\".format(learner.__class__.__name__, sample_size)\n",
    "        \n",
    "    # Return the results\n",
    "    return results"
   ]
  },
  {
   "cell_type": "markdown",
   "metadata": {},
   "source": [
    "### Implementation: Initial Model Evaluation\n",
    "In the code cell, you will need to implement the following:\n",
    "- Import the three supervised learning models you've discussed in the previous section.\n",
    "- Initialize the three models and store them in `'clf_A'`, `'clf_B'`, and `'clf_C'`.\n",
    "  - Use a `'random_state'` for each model you use, if provided.\n",
    "  - **Note:** Use the default settings for each model — you will tune one specific model in a later section.\n",
    "- Calculate the number of records equal to 1%, 10%, and 100% of the training data.\n",
    "  - Store those values in `'samples_1'`, `'samples_10'`, and `'samples_100'` respectively.\n",
    "\n",
    "**Note:** Depending on which algorithms you chose, the following implementation may take some time to run!"
   ]
  },
  {
   "cell_type": "code",
   "execution_count": 20,
   "metadata": {
    "collapsed": false
   },
   "outputs": [
    {
     "name": "stdout",
     "output_type": "stream",
     "text": [
      "LogisticRegression trained on 361 samples.\n",
      "LogisticRegression trained on 3617 samples.\n",
      "LogisticRegression trained on 36177 samples.\n",
      "GaussianNB trained on 361 samples.\n",
      "GaussianNB trained on 3617 samples.\n",
      "GaussianNB trained on 36177 samples.\n",
      "DecisionTreeClassifier trained on 361 samples.\n",
      "DecisionTreeClassifier trained on 3617 samples.\n",
      "DecisionTreeClassifier trained on 36177 samples.\n"
     ]
    },
    {
     "data": {
      "image/png": "[encoded data removed]",
      "text/plain": [
       "<matplotlib.figure.Figure at 0xb083f50>"
      ]
     },
     "metadata": {},
     "output_type": "display_data"
    }
   ],
   "source": [
    "# TODO: Import the three supervised learning models from sklearn\n",
    "from sklearn.linear_model import LogisticRegression, SGDClassifier\n",
    "from sklearn.naive_bayes import GaussianNB\n",
    "from sklearn.tree import DecisionTreeClassifier\n",
    "# TODO: Initialize the three models\n",
    "clf_A = LogisticRegression(random_state=1)\n",
    "clf_B = GaussianNB()\n",
    "clf_C = DecisionTreeClassifier(random_state=2)\n",
    "\n",
    "# TODO: Calculate the number of samples for 1%, 10%, and 100% of the training data\n",
    "n_train = len(y_train)\n",
    "samples_1 = int(n_train*0.01)\n",
    "samples_10 = int(n_train*0.1)\n",
    "samples_100 = int(n_train*1)\n",
    "\n",
    "# Collect results on the learners\n",
    "results = {}\n",
    "for clf in [clf_A, clf_B, clf_C]:\n",
    "    clf_name = clf.__class__.__name__\n",
    "    results[clf_name] = {}\n",
    "    for i, samples in enumerate([samples_1, samples_10, samples_100]):\n",
    "        results[clf_name][i] = \\\n",
    "        train_predict(clf, samples, X_train, y_train, X_test, y_test)\n",
    "\n",
    "# Run metrics visualization for the three supervised learning models chosen\n",
    "vs.evaluate(results, accuracy, fscore)"
   ]
  },
  {
   "cell_type": "markdown",
   "metadata": {},
   "source": [
    "----\n",
    "## Improving Results\n",
    "In this final section, you will choose from the three supervised learning models the *best* model to use on the student data. You will then perform a grid search optimization for the model over the entire training set (`X_train` and `y_train`) by tuning at least one parameter to improve upon the untuned model's F-score. "
   ]
  },
  {
   "cell_type": "markdown",
   "metadata": {},
   "source": [
    "### Question 3 - Choosing the Best Model\n",
    "*Based on the evaluation you performed earlier, in one to two paragraphs, explain to *CharityML* which of the three models you believe to be most appropriate for the task of identifying individuals that make more than \\$50,000.*  \n",
    "**Hint:** Your answer should include discussion of the metrics, prediction/training time, and the algorithm's suitability for the data."
   ]
  },
  {
   "cell_type": "markdown",
   "metadata": {},
   "source": [
    "**Answer: **\n",
    "\n",
    "Here we will select Logistic Regression Model among the three model.\n",
    "The reason for the same is, although in terms fitting in the training data DecisionTree classifier was fitted best however in prediction it didn't do well hence the DecisionTree classifier must be overfitting in the data, also Gaussian NB is neither doing well in training data nor in testing data.where as Logistic regression did good in both training and testing data set.This trend is observed both in accurecy score as well as F-beta score.\n",
    "\n",
    "Also interms of \"processing time\" Logistic Regression was taken lowest time in prediction although in the training data set \n",
    "it took average time.\n",
    "\n",
    "it is abianry problem with less number of dataset and the number of feature is also less that is why LR model will work.\n"
   ]
  },
  {
   "cell_type": "markdown",
   "metadata": {},
   "source": [
    "### Question 4 - Describing the Model in Layman's Terms\n",
    "*In one to two paragraphs, explain to *CharityML*, in layman's terms, how the final model chosen is supposed to work. Be sure that you are describing the major qualities of the model, such as how the model is trained and how the model makes a prediction. Avoid using advanced mathematical or technical jargon, such as describing equations or discussing the algorithm implementation.*"
   ]
  },
  {
   "cell_type": "markdown",
   "metadata": {},
   "source": [
    "**Answer: ** \n",
    "Logistic Regression is choosen as the final model.\n",
    "Logistic Regression learns by using weights and a classification function. \n",
    "If the features are plotted in a 2-D map, logistic regression draws stright lines as boundaries to seperate features into different classifictions.\n",
    "\n",
    "The detailed steps of how Logistic Regression works:\n",
    "\n",
    "1. It first multiplies features with weights and add them up, then a function is applied to the sum. If the function output is large enough, then the classifier would positively relate it with a certain label.\n",
    "2. There is an objective score to measure how the classifier performs. During training, the predictions are compared to true labels to provide feedback, then the weights are updated in order to get a better score in following predictions.\n",
    "3. For prediction, it applies the weights, multiplication, summation, and function to the testing sample to get the final prediction.\n",
    "\n"
   ]
  },
  {
   "cell_type": "markdown",
   "metadata": {},
   "source": [
    "### Implementation: Model Tuning\n",
    "Fine tune the chosen model. Use grid search (`GridSearchCV`) with at least one important parameter tuned with at least 3 different values. You will need to use the entire training set for this. In the code cell below, you will need to implement the following:\n",
    "- Import [`sklearn.grid_search.GridSearchCV`](http://scikit-learn.org/0.17/modules/generated/sklearn.grid_search.GridSearchCV.html) and [`sklearn.metrics.make_scorer`](http://scikit-learn.org/stable/modules/generated/sklearn.metrics.make_scorer.html).\n",
    "- Initialize the classifier you've chosen and store it in `clf`.\n",
    " - Set a `random_state` if one is available to the same state you set before.\n",
    "- Create a dictionary of parameters you wish to tune for the chosen model.\n",
    " - Example: `parameters = {'parameter' : [list of values]}`.\n",
    " - **Note:** Avoid tuning the `max_features` parameter of your learner if that parameter is available!\n",
    "- Use `make_scorer` to create an `fbeta_score` scoring object (with $\\beta = 0.5$).\n",
    "- Perform grid search on the classifier `clf` using the `'scorer'`, and store it in `grid_obj`.\n",
    "- Fit the grid search object to the training data (`X_train`, `y_train`), and store it in `grid_fit`.\n",
    "\n",
    "**Note:** Depending on the algorithm chosen and the parameter list, the following implementation may take some time to run!"
   ]
  },
  {
   "cell_type": "code",
   "execution_count": 21,
   "metadata": {
    "collapsed": false
   },
   "outputs": [
    {
     "name": "stderr",
     "output_type": "stream",
     "text": [
      "C:\\Program Files\\Anaconda2\\lib\\site-packages\\sklearn\\grid_search.py:43: DeprecationWarning: This module was deprecated in version 0.18 in favor of the model_selection module into which all the refactored classes and functions are moved. This module will be removed in 0.20.\n",
      "  DeprecationWarning)\n"
     ]
    },
    {
     "name": "stdout",
     "output_type": "stream",
     "text": [
      "Fitting 3 folds for each of 54 candidates, totalling 162 fits\n",
      "[CV] C=0.01, random_state=None, solver=newton-cg .....................\n",
      "[CV]  C=0.01, random_state=None, solver=newton-cg, score=0.666237 -   1.4s\n",
      "[CV] C=0.01, random_state=None, solver=newton-cg .....................\n"
     ]
    },
    {
     "name": "stderr",
     "output_type": "stream",
     "text": [
      "[Parallel(n_jobs=1)]: Done   1 out of   1 | elapsed:    1.4s remaining:    0.0s\n"
     ]
    },
    {
     "name": "stdout",
     "output_type": "stream",
     "text": [
      "[CV]  C=0.01, random_state=None, solver=newton-cg, score=0.665460 -   1.4s\n",
      "[CV] C=0.01, random_state=None, solver=newton-cg .....................\n"
     ]
    },
    {
     "name": "stderr",
     "output_type": "stream",
     "text": [
      "[Parallel(n_jobs=1)]: Done   2 out of   2 | elapsed:    2.9s remaining:    0.0s\n"
     ]
    },
    {
     "name": "stdout",
     "output_type": "stream",
     "text": [
      "[CV]  C=0.01, random_state=None, solver=newton-cg, score=0.673324 -   1.5s\n",
      "[CV] C=0.01, random_state=None, solver=lbfgs .........................\n"
     ]
    },
    {
     "name": "stderr",
     "output_type": "stream",
     "text": [
      "[Parallel(n_jobs=1)]: Done   3 out of   3 | elapsed:    4.6s remaining:    0.0s\n"
     ]
    },
    {
     "name": "stdout",
     "output_type": "stream",
     "text": [
      "[CV]  C=0.01, random_state=None, solver=lbfgs, score=0.666237 -   0.5s\n",
      "[CV] C=0.01, random_state=None, solver=lbfgs .........................\n"
     ]
    },
    {
     "name": "stderr",
     "output_type": "stream",
     "text": [
      "[Parallel(n_jobs=1)]: Done   4 out of   4 | elapsed:    5.2s remaining:    0.0s\n"
     ]
    },
    {
     "name": "stdout",
     "output_type": "stream",
     "text": [
      "[CV]  C=0.01, random_state=None, solver=lbfgs, score=0.665460 -   0.4s\n",
      "[CV] C=0.01, random_state=None, solver=lbfgs .........................\n"
     ]
    },
    {
     "name": "stderr",
     "output_type": "stream",
     "text": [
      "[Parallel(n_jobs=1)]: Done   5 out of   5 | elapsed:    5.7s remaining:    0.0s\n"
     ]
    },
    {
     "name": "stdout",
     "output_type": "stream",
     "text": [
      "[CV]  C=0.01, random_state=None, solver=lbfgs, score=0.673324 -   0.4s\n",
      "[CV] C=0.01, random_state=None, solver=sag ...........................\n"
     ]
    },
    {
     "name": "stderr",
     "output_type": "stream",
     "text": [
      "[Parallel(n_jobs=1)]: Done   6 out of   6 | elapsed:    6.3s remaining:    0.0s\n"
     ]
    },
    {
     "name": "stdout",
     "output_type": "stream",
     "text": [
      "[CV] .. C=0.01, random_state=None, solver=sag, score=0.666237 -   1.4s\n",
      "[CV] C=0.01, random_state=None, solver=sag ...........................\n"
     ]
    },
    {
     "name": "stderr",
     "output_type": "stream",
     "text": [
      "[Parallel(n_jobs=1)]: Done   7 out of   7 | elapsed:    7.8s remaining:    0.0s\n"
     ]
    },
    {
     "name": "stdout",
     "output_type": "stream",
     "text": [
      "[CV] .. C=0.01, random_state=None, solver=sag, score=0.665460 -   1.3s\n",
      "[CV] C=0.01, random_state=None, solver=sag ...........................\n"
     ]
    },
    {
     "name": "stderr",
     "output_type": "stream",
     "text": [
      "[Parallel(n_jobs=1)]: Done   8 out of   8 | elapsed:    9.2s remaining:    0.0s\n"
     ]
    },
    {
     "name": "stdout",
     "output_type": "stream",
     "text": [
      "[CV] .. C=0.01, random_state=None, solver=sag, score=0.673324 -   1.4s\n",
      "[CV] C=0.01, random_state=101, solver=newton-cg ......................\n"
     ]
    },
    {
     "name": "stderr",
     "output_type": "stream",
     "text": [
      "[Parallel(n_jobs=1)]: Done   9 out of   9 | elapsed:   10.7s remaining:    0.0s\n"
     ]
    },
    {
     "name": "stdout",
     "output_type": "stream",
     "text": [
      "[CV]  C=0.01, random_state=101, solver=newton-cg, score=0.666237 -   1.4s\n",
      "[CV] C=0.01, random_state=101, solver=newton-cg ......................\n",
      "[CV]  C=0.01, random_state=101, solver=newton-cg, score=0.665460 -   1.6s\n",
      "[CV] C=0.01, random_state=101, solver=newton-cg ......................\n",
      "[CV]  C=0.01, random_state=101, solver=newton-cg, score=0.673324 -   1.5s\n",
      "[CV] C=0.01, random_state=101, solver=lbfgs ..........................\n",
      "[CV] . C=0.01, random_state=101, solver=lbfgs, score=0.666237 -   0.4s\n",
      "[CV] C=0.01, random_state=101, solver=lbfgs ..........................\n",
      "[CV] . C=0.01, random_state=101, solver=lbfgs, score=0.665460 -   0.4s\n",
      "[CV] C=0.01, random_state=101, solver=lbfgs ..........................\n",
      "[CV] . C=0.01, random_state=101, solver=lbfgs, score=0.673324 -   0.4s\n",
      "[CV] C=0.01, random_state=101, solver=sag ............................\n",
      "[CV] ... C=0.01, random_state=101, solver=sag, score=0.666237 -   1.5s\n",
      "[CV] C=0.01, random_state=101, solver=sag ............................\n",
      "[CV] ... C=0.01, random_state=101, solver=sag, score=0.665460 -   1.5s\n",
      "[CV] C=0.01, random_state=101, solver=sag ............................\n",
      "[CV] ... C=0.01, random_state=101, solver=sag, score=0.673324 -   1.5s\n",
      "[CV] C=0.01, random_state=20160101, solver=newton-cg .................\n",
      "[CV]  C=0.01, random_state=20160101, solver=newton-cg, score=0.666237 -   1.4s\n",
      "[CV] C=0.01, random_state=20160101, solver=newton-cg .................\n",
      "[CV]  C=0.01, random_state=20160101, solver=newton-cg, score=0.665460 -   1.5s\n",
      "[CV] C=0.01, random_state=20160101, solver=newton-cg .................\n",
      "[CV]  C=0.01, random_state=20160101, solver=newton-cg, score=0.673324 -   1.5s\n",
      "[CV] C=0.01, random_state=20160101, solver=lbfgs .....................\n",
      "[CV]  C=0.01, random_state=20160101, solver=lbfgs, score=0.666237 -   0.4s\n",
      "[CV] C=0.01, random_state=20160101, solver=lbfgs .....................\n",
      "[CV]  C=0.01, random_state=20160101, solver=lbfgs, score=0.665460 -   0.4s\n",
      "[CV] C=0.01, random_state=20160101, solver=lbfgs .....................\n",
      "[CV]  C=0.01, random_state=20160101, solver=lbfgs, score=0.673324 -   0.4s\n",
      "[CV] C=0.01, random_state=20160101, solver=sag .......................\n",
      "[CV]  C=0.01, random_state=20160101, solver=sag, score=0.666237 -   1.4s\n",
      "[CV] C=0.01, random_state=20160101, solver=sag .......................\n",
      "[CV]  C=0.01, random_state=20160101, solver=sag, score=0.665460 -   1.3s\n",
      "[CV] C=0.01, random_state=20160101, solver=sag .......................\n",
      "[CV]  C=0.01, random_state=20160101, solver=sag, score=0.673324 -   1.3s\n",
      "[CV] C=0.1, random_state=None, solver=newton-cg ......................\n",
      "[CV]  C=0.1, random_state=None, solver=newton-cg, score=0.683632 -   2.2s\n",
      "[CV] C=0.1, random_state=None, solver=newton-cg ......................\n",
      "[CV]  C=0.1, random_state=None, solver=newton-cg, score=0.680710 -   2.1s\n",
      "[CV] C=0.1, random_state=None, solver=newton-cg ......................\n",
      "[CV]  C=0.1, random_state=None, solver=newton-cg, score=0.689669 -   2.2s\n",
      "[CV] C=0.1, random_state=None, solver=lbfgs ..........................\n",
      "[CV] . C=0.1, random_state=None, solver=lbfgs, score=0.683632 -   1.0s\n",
      "[CV] C=0.1, random_state=None, solver=lbfgs ..........................\n",
      "[CV] . C=0.1, random_state=None, solver=lbfgs, score=0.680710 -   0.9s\n",
      "[CV] C=0.1, random_state=None, solver=lbfgs ..........................\n",
      "[CV] . C=0.1, random_state=None, solver=lbfgs, score=0.689669 -   1.0s\n",
      "[CV] C=0.1, random_state=None, solver=sag ............................\n",
      "[CV] ... C=0.1, random_state=None, solver=sag, score=0.683416 -   1.8s\n",
      "[CV] C=0.1, random_state=None, solver=sag ............................\n",
      "[CV] ... C=0.1, random_state=None, solver=sag, score=0.680710 -   1.7s\n",
      "[CV] C=0.1, random_state=None, solver=sag ............................\n",
      "[CV] ... C=0.1, random_state=None, solver=sag, score=0.689669 -   2.1s\n",
      "[CV] C=0.1, random_state=101, solver=newton-cg .......................\n",
      "[CV]  C=0.1, random_state=101, solver=newton-cg, score=0.683632 -   2.5s\n",
      "[CV] C=0.1, random_state=101, solver=newton-cg .......................\n",
      "[CV]  C=0.1, random_state=101, solver=newton-cg, score=0.680710 -   2.4s\n",
      "[CV] C=0.1, random_state=101, solver=newton-cg .......................\n",
      "[CV]  C=0.1, random_state=101, solver=newton-cg, score=0.689669 -   2.2s\n",
      "[CV] C=0.1, random_state=101, solver=lbfgs ...........................\n",
      "[CV] .. C=0.1, random_state=101, solver=lbfgs, score=0.683632 -   1.0s\n",
      "[CV] C=0.1, random_state=101, solver=lbfgs ...........................\n",
      "[CV] .. C=0.1, random_state=101, solver=lbfgs, score=0.680710 -   1.0s\n",
      "[CV] C=0.1, random_state=101, solver=lbfgs ...........................\n",
      "[CV] .. C=0.1, random_state=101, solver=lbfgs, score=0.689669 -   0.9s\n",
      "[CV] C=0.1, random_state=101, solver=sag .............................\n",
      "[CV] .... C=0.1, random_state=101, solver=sag, score=0.683416 -   1.9s\n",
      "[CV] C=0.1, random_state=101, solver=sag .............................\n",
      "[CV] .... C=0.1, random_state=101, solver=sag, score=0.680710 -   1.9s\n",
      "[CV] C=0.1, random_state=101, solver=sag .............................\n",
      "[CV] .... C=0.1, random_state=101, solver=sag, score=0.689669 -   1.8s\n",
      "[CV] C=0.1, random_state=20160101, solver=newton-cg ..................\n",
      "[CV]  C=0.1, random_state=20160101, solver=newton-cg, score=0.683632 -   2.2s\n",
      "[CV] C=0.1, random_state=20160101, solver=newton-cg ..................\n",
      "[CV]  C=0.1, random_state=20160101, solver=newton-cg, score=0.680710 -   2.2s\n",
      "[CV] C=0.1, random_state=20160101, solver=newton-cg ..................\n",
      "[CV]  C=0.1, random_state=20160101, solver=newton-cg, score=0.689669 -   2.2s\n",
      "[CV] C=0.1, random_state=20160101, solver=lbfgs ......................\n",
      "[CV]  C=0.1, random_state=20160101, solver=lbfgs, score=0.683632 -   1.0s\n",
      "[CV] C=0.1, random_state=20160101, solver=lbfgs ......................\n",
      "[CV]  C=0.1, random_state=20160101, solver=lbfgs, score=0.680710 -   0.9s\n",
      "[CV] C=0.1, random_state=20160101, solver=lbfgs ......................\n",
      "[CV]  C=0.1, random_state=20160101, solver=lbfgs, score=0.689669 -   1.1s\n",
      "[CV] C=0.1, random_state=20160101, solver=sag ........................\n",
      "[CV]  C=0.1, random_state=20160101, solver=sag, score=0.683632 -   1.7s\n",
      "[CV] C=0.1, random_state=20160101, solver=sag ........................\n",
      "[CV]  C=0.1, random_state=20160101, solver=sag, score=0.680710 -   1.8s\n",
      "[CV] C=0.1, random_state=20160101, solver=sag ........................\n",
      "[CV]  C=0.1, random_state=20160101, solver=sag, score=0.689669 -   1.9s\n",
      "[CV] C=1.0, random_state=None, solver=newton-cg ......................\n",
      "[CV]  C=1.0, random_state=None, solver=newton-cg, score=0.697485 -   3.0s\n",
      "[CV] C=1.0, random_state=None, solver=newton-cg ......................\n",
      "[CV]  C=1.0, random_state=None, solver=newton-cg, score=0.698704 -   3.3s\n",
      "[CV] C=1.0, random_state=None, solver=newton-cg ......................\n",
      "[CV]  C=1.0, random_state=None, solver=newton-cg, score=0.705826 -   3.0s\n",
      "[CV] C=1.0, random_state=None, solver=lbfgs ..........................\n",
      "[CV] . C=1.0, random_state=None, solver=lbfgs, score=0.697404 -   1.2s\n",
      "[CV] C=1.0, random_state=None, solver=lbfgs ..........................\n",
      "[CV] . C=1.0, random_state=None, solver=lbfgs, score=0.699401 -   1.1s\n",
      "[CV] C=1.0, random_state=None, solver=lbfgs ..........................\n",
      "[CV] . C=1.0, random_state=None, solver=lbfgs, score=0.704909 -   1.2s\n",
      "[CV] C=1.0, random_state=None, solver=sag ............................\n",
      "[CV] ... C=1.0, random_state=None, solver=sag, score=0.697485 -   3.4s\n",
      "[CV] C=1.0, random_state=None, solver=sag ............................\n",
      "[CV] ... C=1.0, random_state=None, solver=sag, score=0.698704 -   3.6s\n",
      "[CV] C=1.0, random_state=None, solver=sag ............................\n",
      "[CV] ... C=1.0, random_state=None, solver=sag, score=0.705826 -   3.5s\n",
      "[CV] C=1.0, random_state=101, solver=newton-cg .......................\n",
      "[CV]  C=1.0, random_state=101, solver=newton-cg, score=0.697485 -   3.0s\n",
      "[CV] C=1.0, random_state=101, solver=newton-cg .......................\n",
      "[CV]  C=1.0, random_state=101, solver=newton-cg, score=0.698704 -   3.2s\n",
      "[CV] C=1.0, random_state=101, solver=newton-cg .......................\n",
      "[CV]  C=1.0, random_state=101, solver=newton-cg, score=0.705826 -   3.1s\n",
      "[CV] C=1.0, random_state=101, solver=lbfgs ...........................\n",
      "[CV] .. C=1.0, random_state=101, solver=lbfgs, score=0.698430 -   1.1s\n",
      "[CV] C=1.0, random_state=101, solver=lbfgs ...........................\n",
      "[CV] .. C=1.0, random_state=101, solver=lbfgs, score=0.699401 -   1.1s\n",
      "[CV] C=1.0, random_state=101, solver=lbfgs ...........................\n",
      "[CV] .. C=1.0, random_state=101, solver=lbfgs, score=0.704909 -   1.1s\n",
      "[CV] C=1.0, random_state=101, solver=sag .............................\n",
      "[CV] .... C=1.0, random_state=101, solver=sag, score=0.697485 -   3.2s\n",
      "[CV] C=1.0, random_state=101, solver=sag .............................\n",
      "[CV] .... C=1.0, random_state=101, solver=sag, score=0.698704 -   3.4s\n",
      "[CV] C=1.0, random_state=101, solver=sag .............................\n",
      "[CV] .... C=1.0, random_state=101, solver=sag, score=0.705826 -   3.1s\n",
      "[CV] C=1.0, random_state=20160101, solver=newton-cg ..................\n",
      "[CV]  C=1.0, random_state=20160101, solver=newton-cg, score=0.697485 -   2.9s\n",
      "[CV] C=1.0, random_state=20160101, solver=newton-cg ..................\n",
      "[CV]  C=1.0, random_state=20160101, solver=newton-cg, score=0.698704 -   3.3s\n",
      "[CV] C=1.0, random_state=20160101, solver=newton-cg ..................\n",
      "[CV]  C=1.0, random_state=20160101, solver=newton-cg, score=0.705826 -   2.9s\n",
      "[CV] C=1.0, random_state=20160101, solver=lbfgs ......................\n",
      "[CV]  C=1.0, random_state=20160101, solver=lbfgs, score=0.697620 -   1.2s\n",
      "[CV] C=1.0, random_state=20160101, solver=lbfgs ......................\n",
      "[CV]  C=1.0, random_state=20160101, solver=lbfgs, score=0.699401 -   1.1s\n",
      "[CV] C=1.0, random_state=20160101, solver=lbfgs ......................\n",
      "[CV]  C=1.0, random_state=20160101, solver=lbfgs, score=0.705082 -   1.1s\n",
      "[CV] C=1.0, random_state=20160101, solver=sag ........................\n",
      "[CV]  C=1.0, random_state=20160101, solver=sag, score=0.697314 -   3.0s\n",
      "[CV] C=1.0, random_state=20160101, solver=sag ........................\n",
      "[CV]  C=1.0, random_state=20160101, solver=sag, score=0.698704 -   3.3s\n",
      "[CV] C=1.0, random_state=20160101, solver=sag ........................\n",
      "[CV]  C=1.0, random_state=20160101, solver=sag, score=0.705826 -   3.3s\n",
      "[CV] C=10.0, random_state=None, solver=newton-cg .....................\n",
      "[CV]  C=10.0, random_state=None, solver=newton-cg, score=0.701325 -   5.8s\n",
      "[CV] C=10.0, random_state=None, solver=newton-cg .....................\n",
      "[CV]  C=10.0, random_state=None, solver=newton-cg, score=0.702159 -   5.3s\n",
      "[CV] C=10.0, random_state=None, solver=newton-cg .....................\n",
      "[CV]  C=10.0, random_state=None, solver=newton-cg, score=0.708027 -   5.2s\n",
      "[CV] C=10.0, random_state=None, solver=lbfgs .........................\n",
      "[CV]  C=10.0, random_state=None, solver=lbfgs, score=0.701754 -   1.2s\n",
      "[CV] C=10.0, random_state=None, solver=lbfgs .........................\n",
      "[CV]  C=10.0, random_state=None, solver=lbfgs, score=0.701727 -   1.1s\n",
      "[CV] C=10.0, random_state=None, solver=lbfgs .........................\n",
      "[CV]  C=10.0, random_state=None, solver=lbfgs, score=0.707171 -   1.1s\n",
      "[CV] C=10.0, random_state=None, solver=sag ...........................\n"
     ]
    },
    {
     "name": "stderr",
     "output_type": "stream",
     "text": [
      "C:\\Program Files\\Anaconda2\\lib\\site-packages\\sklearn\\linear_model\\sag.py:286: ConvergenceWarning: The max_iter was reached which means the coef_ did not converge\n",
      "  \"the coef_ did not converge\", ConvergenceWarning)\n"
     ]
    },
    {
     "name": "stdout",
     "output_type": "stream",
     "text": [
      "[CV] .. C=10.0, random_state=None, solver=sag, score=0.701325 -   9.7s\n",
      "[CV] C=10.0, random_state=None, solver=sag ...........................\n",
      "[CV] .. C=10.0, random_state=None, solver=sag, score=0.702159 -   9.6s\n",
      "[CV] C=10.0, random_state=None, solver=sag ...........................\n",
      "[CV] .. C=10.0, random_state=None, solver=sag, score=0.708027 -   9.6s\n",
      "[CV] C=10.0, random_state=101, solver=newton-cg ......................\n",
      "[CV]  C=10.0, random_state=101, solver=newton-cg, score=0.701325 -   5.2s\n",
      "[CV] C=10.0, random_state=101, solver=newton-cg ......................\n",
      "[CV]  C=10.0, random_state=101, solver=newton-cg, score=0.702159 -   5.4s\n",
      "[CV] C=10.0, random_state=101, solver=newton-cg ......................\n",
      "[CV]  C=10.0, random_state=101, solver=newton-cg, score=0.708027 -   5.2s\n",
      "[CV] C=10.0, random_state=101, solver=lbfgs ..........................\n",
      "[CV] . C=10.0, random_state=101, solver=lbfgs, score=0.701754 -   1.1s\n",
      "[CV] C=10.0, random_state=101, solver=lbfgs ..........................\n",
      "[CV] . C=10.0, random_state=101, solver=lbfgs, score=0.701727 -   1.1s\n",
      "[CV] C=10.0, random_state=101, solver=lbfgs ..........................\n",
      "[CV] . C=10.0, random_state=101, solver=lbfgs, score=0.707171 -   1.1s\n",
      "[CV] C=10.0, random_state=101, solver=sag ............................\n",
      "[CV] ... C=10.0, random_state=101, solver=sag, score=0.701325 -   9.7s\n",
      "[CV] C=10.0, random_state=101, solver=sag ............................\n",
      "[CV] ... C=10.0, random_state=101, solver=sag, score=0.702159 -   9.6s\n",
      "[CV] C=10.0, random_state=101, solver=sag ............................\n",
      "[CV] ... C=10.0, random_state=101, solver=sag, score=0.708027 -   9.6s\n",
      "[CV] C=10.0, random_state=20160101, solver=newton-cg .................\n",
      "[CV]  C=10.0, random_state=20160101, solver=newton-cg, score=0.701325 -   5.3s\n",
      "[CV] C=10.0, random_state=20160101, solver=newton-cg .................\n",
      "[CV]  C=10.0, random_state=20160101, solver=newton-cg, score=0.702159 -   5.4s\n",
      "[CV] C=10.0, random_state=20160101, solver=newton-cg .................\n",
      "[CV]  C=10.0, random_state=20160101, solver=newton-cg, score=0.708027 -   4.6s\n",
      "[CV] C=10.0, random_state=20160101, solver=lbfgs .....................\n",
      "[CV]  C=10.0, random_state=20160101, solver=lbfgs, score=0.701754 -   1.2s\n",
      "[CV] C=10.0, random_state=20160101, solver=lbfgs .....................\n",
      "[CV]  C=10.0, random_state=20160101, solver=lbfgs, score=0.701727 -   1.2s\n",
      "[CV] C=10.0, random_state=20160101, solver=lbfgs .....................\n",
      "[CV]  C=10.0, random_state=20160101, solver=lbfgs, score=0.707171 -   1.3s\n",
      "[CV] C=10.0, random_state=20160101, solver=sag .......................\n",
      "[CV]  C=10.0, random_state=20160101, solver=sag, score=0.701325 -   9.7s\n",
      "[CV] C=10.0, random_state=20160101, solver=sag .......................\n",
      "[CV]  C=10.0, random_state=20160101, solver=sag, score=0.702159 -   9.6s\n",
      "[CV] C=10.0, random_state=20160101, solver=sag .......................\n",
      "[CV]  C=10.0, random_state=20160101, solver=sag, score=0.708027 -   9.6s\n",
      "[CV] C=100.0, random_state=None, solver=newton-cg ....................\n",
      "[CV]  C=100.0, random_state=None, solver=newton-cg, score=0.701156 -   7.0s\n",
      "[CV] C=100.0, random_state=None, solver=newton-cg ....................\n",
      "[CV]  C=100.0, random_state=None, solver=newton-cg, score=0.703239 -   9.7s\n",
      "[CV] C=100.0, random_state=None, solver=newton-cg ....................\n",
      "[CV]  C=100.0, random_state=None, solver=newton-cg, score=0.707856 -   7.3s\n",
      "[CV] C=100.0, random_state=None, solver=lbfgs ........................\n",
      "[CV]  C=100.0, random_state=None, solver=lbfgs, score=0.701493 -   1.1s\n",
      "[CV] C=100.0, random_state=None, solver=lbfgs ........................\n",
      "[CV]  C=100.0, random_state=None, solver=lbfgs, score=0.703911 -   1.1s\n",
      "[CV] C=100.0, random_state=None, solver=lbfgs ........................\n",
      "[CV]  C=100.0, random_state=None, solver=lbfgs, score=0.708199 -   1.1s\n",
      "[CV] C=100.0, random_state=None, solver=sag ..........................\n",
      "[CV] . C=100.0, random_state=None, solver=sag, score=0.701156 -   9.7s\n",
      "[CV] C=100.0, random_state=None, solver=sag ..........................\n",
      "[CV] . C=100.0, random_state=None, solver=sag, score=0.703239 -   9.7s\n",
      "[CV] C=100.0, random_state=None, solver=sag ..........................\n",
      "[CV] . C=100.0, random_state=None, solver=sag, score=0.707856 -  11.1s\n",
      "[CV] C=100.0, random_state=101, solver=newton-cg .....................\n",
      "[CV]  C=100.0, random_state=101, solver=newton-cg, score=0.701156 -   7.6s\n",
      "[CV] C=100.0, random_state=101, solver=newton-cg .....................\n",
      "[CV]  C=100.0, random_state=101, solver=newton-cg, score=0.703239 -   9.1s\n",
      "[CV] C=100.0, random_state=101, solver=newton-cg .....................\n",
      "[CV]  C=100.0, random_state=101, solver=newton-cg, score=0.707856 -   9.2s\n",
      "[CV] C=100.0, random_state=101, solver=lbfgs .........................\n",
      "[CV]  C=100.0, random_state=101, solver=lbfgs, score=0.701493 -   1.1s\n",
      "[CV] C=100.0, random_state=101, solver=lbfgs .........................\n",
      "[CV]  C=100.0, random_state=101, solver=lbfgs, score=0.703911 -   1.2s\n",
      "[CV] C=100.0, random_state=101, solver=lbfgs .........................\n",
      "[CV]  C=100.0, random_state=101, solver=lbfgs, score=0.708199 -   1.1s\n",
      "[CV] C=100.0, random_state=101, solver=sag ...........................\n",
      "[CV] .. C=100.0, random_state=101, solver=sag, score=0.701156 -   9.6s\n",
      "[CV] C=100.0, random_state=101, solver=sag ...........................\n",
      "[CV] .. C=100.0, random_state=101, solver=sag, score=0.703239 -   9.6s\n",
      "[CV] C=100.0, random_state=101, solver=sag ...........................\n",
      "[CV] .. C=100.0, random_state=101, solver=sag, score=0.707856 -   9.6s\n",
      "[CV] C=100.0, random_state=20160101, solver=newton-cg ................\n",
      "[CV]  C=100.0, random_state=20160101, solver=newton-cg, score=0.701156 -   8.0s\n",
      "[CV] C=100.0, random_state=20160101, solver=newton-cg ................\n",
      "[CV]  C=100.0, random_state=20160101, solver=newton-cg, score=0.703239 -   9.3s\n",
      "[CV] C=100.0, random_state=20160101, solver=newton-cg ................\n",
      "[CV]  C=100.0, random_state=20160101, solver=newton-cg, score=0.707856 -   6.9s\n",
      "[CV] C=100.0, random_state=20160101, solver=lbfgs ....................\n",
      "[CV]  C=100.0, random_state=20160101, solver=lbfgs, score=0.701493 -   1.1s\n",
      "[CV] C=100.0, random_state=20160101, solver=lbfgs ....................\n",
      "[CV]  C=100.0, random_state=20160101, solver=lbfgs, score=0.703911 -   1.1s\n",
      "[CV] C=100.0, random_state=20160101, solver=lbfgs ....................\n",
      "[CV]  C=100.0, random_state=20160101, solver=lbfgs, score=0.708199 -   1.1s\n",
      "[CV] C=100.0, random_state=20160101, solver=sag ......................\n",
      "[CV]  C=100.0, random_state=20160101, solver=sag, score=0.701156 -   9.6s\n",
      "[CV] C=100.0, random_state=20160101, solver=sag ......................\n",
      "[CV]  C=100.0, random_state=20160101, solver=sag, score=0.703239 -   9.6s\n",
      "[CV] C=100.0, random_state=20160101, solver=sag ......................\n",
      "[CV]  C=100.0, random_state=20160101, solver=sag, score=0.707856 -   9.6s\n",
      "[CV] C=1000.0, random_state=None, solver=newton-cg ...................\n",
      "[CV]  C=1000.0, random_state=None, solver=newton-cg, score=0.701754 -  10.9s\n",
      "[CV] C=1000.0, random_state=None, solver=newton-cg ...................\n",
      "[CV]  C=1000.0, random_state=None, solver=newton-cg, score=0.702686 -  16.0s\n",
      "[CV] C=1000.0, random_state=None, solver=newton-cg ...................\n",
      "[CV]  C=1000.0, random_state=None, solver=newton-cg, score=0.708080 -  17.1s\n",
      "[CV] C=1000.0, random_state=None, solver=lbfgs .......................\n",
      "[CV]  C=1000.0, random_state=None, solver=lbfgs, score=0.701035 -   1.1s\n",
      "[CV] C=1000.0, random_state=None, solver=lbfgs .......................\n",
      "[CV]  C=1000.0, random_state=None, solver=lbfgs, score=0.703215 -   1.1s\n",
      "[CV] C=1000.0, random_state=None, solver=lbfgs .......................\n",
      "[CV]  C=1000.0, random_state=None, solver=lbfgs, score=0.707737 -   1.1s\n",
      "[CV] C=1000.0, random_state=None, solver=sag .........................\n",
      "[CV]  C=1000.0, random_state=None, solver=sag, score=0.701754 -   9.7s\n",
      "[CV] C=1000.0, random_state=None, solver=sag .........................\n",
      "[CV]  C=1000.0, random_state=None, solver=sag, score=0.702686 -   9.6s\n",
      "[CV] C=1000.0, random_state=None, solver=sag .........................\n",
      "[CV]  C=1000.0, random_state=None, solver=sag, score=0.708080 -   9.6s\n",
      "[CV] C=1000.0, random_state=101, solver=newton-cg ....................\n",
      "[CV]  C=1000.0, random_state=101, solver=newton-cg, score=0.701754 -  11.5s\n",
      "[CV] C=1000.0, random_state=101, solver=newton-cg ....................\n",
      "[CV]  C=1000.0, random_state=101, solver=newton-cg, score=0.702686 -  13.3s\n",
      "[CV] C=1000.0, random_state=101, solver=newton-cg ....................\n",
      "[CV]  C=1000.0, random_state=101, solver=newton-cg, score=0.708080 -  11.0s\n",
      "[CV] C=1000.0, random_state=101, solver=lbfgs ........................\n",
      "[CV]  C=1000.0, random_state=101, solver=lbfgs, score=0.701035 -   1.1s\n",
      "[CV] C=1000.0, random_state=101, solver=lbfgs ........................\n",
      "[CV]  C=1000.0, random_state=101, solver=lbfgs, score=0.703215 -   1.1s\n",
      "[CV] C=1000.0, random_state=101, solver=lbfgs ........................\n",
      "[CV]  C=1000.0, random_state=101, solver=lbfgs, score=0.707737 -   1.1s\n",
      "[CV] C=1000.0, random_state=101, solver=sag ..........................\n",
      "[CV] . C=1000.0, random_state=101, solver=sag, score=0.701754 -   9.6s\n",
      "[CV] C=1000.0, random_state=101, solver=sag ..........................\n",
      "[CV] . C=1000.0, random_state=101, solver=sag, score=0.702686 -   9.6s\n",
      "[CV] C=1000.0, random_state=101, solver=sag ..........................\n",
      "[CV] . C=1000.0, random_state=101, solver=sag, score=0.708080 -   9.6s\n",
      "[CV] C=1000.0, random_state=20160101, solver=newton-cg ...............\n",
      "[CV]  C=1000.0, random_state=20160101, solver=newton-cg, score=0.701754 -  17.2s\n",
      "[CV] C=1000.0, random_state=20160101, solver=newton-cg ...............\n",
      "[CV]  C=1000.0, random_state=20160101, solver=newton-cg, score=0.702686 -  14.8s\n",
      "[CV] C=1000.0, random_state=20160101, solver=newton-cg ...............\n",
      "[CV]  C=1000.0, random_state=20160101, solver=newton-cg, score=0.708080 -  15.2s\n",
      "[CV] C=1000.0, random_state=20160101, solver=lbfgs ...................\n",
      "[CV]  C=1000.0, random_state=20160101, solver=lbfgs, score=0.701035 -   1.1s\n",
      "[CV] C=1000.0, random_state=20160101, solver=lbfgs ...................\n",
      "[CV]  C=1000.0, random_state=20160101, solver=lbfgs, score=0.703215 -   1.1s\n",
      "[CV] C=1000.0, random_state=20160101, solver=lbfgs ...................\n",
      "[CV]  C=1000.0, random_state=20160101, solver=lbfgs, score=0.707737 -   1.1s\n",
      "[CV] C=1000.0, random_state=20160101, solver=sag .....................\n",
      "[CV]  C=1000.0, random_state=20160101, solver=sag, score=0.701754 -   9.7s\n",
      "[CV] C=1000.0, random_state=20160101, solver=sag .....................\n",
      "[CV]  C=1000.0, random_state=20160101, solver=sag, score=0.702686 -   9.7s\n",
      "[CV] C=1000.0, random_state=20160101, solver=sag .....................\n",
      "[CV]  C=1000.0, random_state=20160101, solver=sag, score=0.708080 -   9.6s\n"
     ]
    },
    {
     "name": "stderr",
     "output_type": "stream",
     "text": [
      "[Parallel(n_jobs=1)]: Done 162 out of 162 | elapsed: 11.7min finished\n"
     ]
    },
    {
     "name": "stdout",
     "output_type": "stream",
     "text": [
      "Unoptimized model\n",
      "------\n",
      "Accuracy score on testing data: 0.8483\n",
      "F-score on testing data: 0.6993\n",
      "\n",
      "Optimized Model\n",
      "------\n",
      "Final accuracy score on the testing data: 0.8494\n",
      "Final F-score on the testing data: 0.7008\n",
      "\n",
      "Best Classifier\n",
      "------\n",
      "LogisticRegression(C=100.0, class_weight=None, dual=False, fit_intercept=True,\n",
      "          intercept_scaling=1, max_iter=100, multi_class='ovr', n_jobs=1,\n",
      "          penalty='l2', random_state=None, solver='lbfgs', tol=0.0001,\n",
      "          verbose=0, warm_start=False)\n"
     ]
    }
   ],
   "source": [
    "# TODO: Import 'GridSearchCV', 'make_scorer', and any other necessary libraries\n",
    "from sklearn.metrics import fbeta_score, make_scorer\n",
    "from sklearn.grid_search import GridSearchCV\n",
    "\n",
    "# TODO: Initialize the classifier\n",
    "clf = LogisticRegression()\n",
    "\n",
    "# TODO: Create the parameters list you wish to tune\n",
    "parameters = {'solver': ['newton-cg', 'lbfgs', 'sag'],\n",
    "              'C': [0.01, 0.1, 1.0, 10.0, 100.0, 1000.0],\n",
    "              'random_state': [None, 101, 20160101]}\n",
    "beta=0.5\n",
    "# TODO: Make an fbeta_score scoring object\n",
    "scorer = make_scorer(fbeta_score,beta=beta)\n",
    "\n",
    "# TODO: Perform grid search on the classifier using 'scorer' as the scoring method\n",
    "grid_obj = GridSearchCV(clf,parameters,scoring=scorer, verbose=10)\n",
    "\n",
    "# TODO: Fit the grid search object to the training data and find the optimal parameters\n",
    "grid_fit = grid_obj.fit(X_train,y_train)\n",
    "\n",
    "# Get the estimator\n",
    "best_clf = grid_fit.best_estimator_\n",
    "\n",
    "# Make predictions using the unoptimized and model\n",
    "predictions = (clf.fit(X_train, y_train)).predict(X_test)\n",
    "best_predictions = best_clf.predict(X_test)\n",
    "\n",
    "# Report the before-and-afterscores\n",
    "print \"Unoptimized model\\n------\"\n",
    "print \"Accuracy score on testing data: {:.4f}\".format(accuracy_score(y_test, predictions))\n",
    "print \"F-score on testing data: {:.4f}\".format(fbeta_score(y_test, predictions, beta = 0.5))\n",
    "print \"\\nOptimized Model\\n------\"\n",
    "print \"Final accuracy score on the testing data: {:.4f}\".format(accuracy_score(y_test, best_predictions))\n",
    "print \"Final F-score on the testing data: {:.4f}\".format(fbeta_score(y_test, best_predictions, beta = 0.5))\n",
    "# show best parameters\n",
    "print \"\\nBest Classifier\\n------\"\n",
    "print best_clf"
   ]
  },
  {
   "cell_type": "markdown",
   "metadata": {},
   "source": [
    "### Question 5 - Final Model Evaluation\n",
    "_What is your optimized model's accuracy and F-score on the testing data? Are these scores better or worse than the unoptimized model? How do the results from your optimized model compare to the naive predictor benchmarks you found earlier in **Question 1**?_  \n",
    "**Note:** Fill in the table below with your results, and then provide discussion in the **Answer** box."
   ]
  },
  {
   "cell_type": "markdown",
   "metadata": {},
   "source": [
    "#### Results:\n",
    "\n",
    "|     Metric     | Benchmark Predictor | Unoptimized Model | Optimized Model |\n",
    "| :------------: | :-----------------: | :---------------: | :-------------: | \n",
    "| Accuracy Score |             0.2478        |       0.8483            |       0.8494          |\n",
    "| F-score        |         1.0583            |       0.6993            |   0.7008       |\n"
   ]
  },
  {
   "cell_type": "markdown",
   "metadata": {},
   "source": [
    "**Answer: **\n",
    "The optimzied model has 0.8494 accuracy and 0.7008 F-Score.\n",
    "This is slightly better then unoptimized model.\n",
    "In compare to Benchmark predictor Optimized model performs really well when we look at the Accuracy Score.However as the recall value is high in Benchmark it shows better score in F-score\n"
   ]
  },
  {
   "cell_type": "markdown",
   "metadata": {},
   "source": [
    "----\n",
    "## Feature Importance\n",
    "\n",
    "An important task when performing supervised learning on a dataset like the census data we study here is determining which features provide the most predictive power. By focusing on the relationship between only a few crucial features and the target label we simplify our understanding of the phenomenon, which is most always a useful thing to do. In the case of this project, that means we wish to identify a small number of features that most strongly predict whether an individual makes at most or more than \\$50,000.\n",
    "\n",
    "Choose a scikit-learn classifier (e.g., adaboost, random forests) that has a `feature_importance_` attribute, which is a function that ranks the importance of features according to the chosen classifier.  In the next python cell fit this classifier to training set and use this attribute to determine the top 5 most important features for the census dataset."
   ]
  },
  {
   "cell_type": "markdown",
   "metadata": {},
   "source": [
    "### Question 6 - Feature Relevance Observation\n",
    "When **Exploring the Data**, it was shown there are thirteen available features for each individual on record in the census data.  \n",
    "_Of these thirteen records, which five features do you believe to be most important for prediction, and in what order would you rank them and why?_"
   ]
  },
  {
   "cell_type": "markdown",
   "metadata": {},
   "source": [
    "**Answer:**\n",
    "\n",
    "Intuitively I belive following features can have good predicive power ,most important in top oreder.\n",
    "\n",
    "1. workclass : definitely what working class  the person belogns to will definie his/her earning some one in privete \n",
    "   job have the high probablity of earning more then 50K then someone in local govt.\n",
    "\n",
    "2. Education : Higher education will incrase the chance of earning more then 50k\n",
    "\n",
    "3. occupation : Occupation can be detrimental,a doctor or an engineer has higher probability of earning more then 50K then \n",
    "   a plumber.\n",
    "   \n",
    "4. hours-per-week : High number of working hour can increasse earning potential hence probability can be high that the person   earns more then 50K\n",
    "\n",
    "5. age : People earn their best salary at certain age below and above that the salary decreases.\n",
    "\n"
   ]
  },
  {
   "cell_type": "markdown",
   "metadata": {},
   "source": [
    "### Implementation - Extracting Feature Importance\n",
    "Choose a `scikit-learn` supervised learning algorithm that has a `feature_importance_` attribute availble for it. This attribute is a function that ranks the importance of each feature when making predictions based on the chosen algorithm.\n",
    "\n",
    "In the code cell below, you will need to implement the following:\n",
    " - Import a supervised learning model from sklearn if it is different from the three used earlier.\n",
    " - Train the supervised model on the entire training set.\n",
    " - Extract the feature importances using `'.feature_importances_'`."
   ]
  },
  {
   "cell_type": "code",
   "execution_count": 26,
   "metadata": {
    "collapsed": false
   },
   "outputs": [
    {
     "data": {
      "image/png": "[encoded data removed]",
      "text/plain": [
       "<matplotlib.figure.Figure at 0xa7ca410>"
      ]
     },
     "metadata": {},
     "output_type": "display_data"
    }
   ],
   "source": [
    "# TODO: Import a supervised learning model that has 'feature_importances_'\n",
    "from sklearn.ensemble import RandomForestClassifier\n",
    "# TODO: Train the supervised model on the training set \n",
    "model =  RandomForestClassifier().fit(X_train,y_train)\n",
    "# TODO: Extract the feature importances\n",
    "importances = model.feature_importances_\n",
    "\n",
    "# Plot\n",
    "vs.feature_plot(importances, X_train, y_train)"
   ]
  },
  {
   "cell_type": "markdown",
   "metadata": {},
   "source": [
    "### Question 7 - Extracting Feature Importance\n",
    "\n",
    "Observe the visualization created above which displays the five most relevant features for predicting if an individual makes at most or above \\$50,000.  \n",
    "_How do these five features compare to the five features you discussed in **Question 6**? If you were close to the same answer, how does this visualization confirm your thoughts? If you were not close, why do you think these features are more relevant?_"
   ]
  },
  {
   "cell_type": "markdown",
   "metadata": {},
   "source": [
    "**Answer:**\n",
    "\n",
    "The visualization matches with my intution for the following features \"age\",\"house-per-week\" and \"education\".\n",
    "However other two feature \"workclass\" and \"occupation\" does not play much role,this is probally because of the fact that\n",
    "if someone doing his work really passionately and puting long hours its may be end being same earning.\n",
    "\n",
    "From visualization we got two other important feature that is \"capital Gain\" and \"Marital status\".These are important probably because captial gain is important which add on to your overall earning."
   ]
  },
  {
   "cell_type": "markdown",
   "metadata": {},
   "source": [
    "### Feature Selection\n",
    "How does a model perform if we only use a subset of all the available features in the data? With less features required to train, the expectation is that training and prediction time is much lower — at the cost of performance metrics. From the visualization above, we see that the top five most important features contribute more than half of the importance of **all** features present in the data. This hints that we can attempt to *reduce the feature space* and simplify the information required for the model to learn. The code cell below will use the same optimized model you found earlier, and train it on the same training set *with only the top five important features*. "
   ]
  },
  {
   "cell_type": "code",
   "execution_count": 28,
   "metadata": {
    "collapsed": false
   },
   "outputs": [
    {
     "name": "stdout",
     "output_type": "stream",
     "text": [
      "Final Model trained on full data\n",
      "------\n",
      "Train time 3.80200004578 s, Test time 0.836999893188 s\n",
      "Accuracy on testing data: 0.8494\n",
      "F-score on testing data: 0.7008\n",
      "\n",
      "Final Model trained on reduced data\n",
      "------\n",
      "Train time 0.335000038147 s, Test time 0.0 s\n",
      "Accuracy on testing data: 0.8347\n",
      "F-score on testing data: 0.6678\n"
     ]
    }
   ],
   "source": [
    "# Import functionality for cloning a model\n",
    "from sklearn.base import clone\n",
    "\n",
    "# Reduce the feature space\n",
    "X_train_reduced = X_train[X_train.columns.values[(np.argsort(importances)[::-1])[:5]]]\n",
    "X_test_reduced = X_test[X_test.columns.values[(np.argsort(importances)[::-1])[:5]]]\n",
    "\n",
    "# Train on the \"best\" model found from grid search earlier\n",
    "start = time()\n",
    "full_clf = (clone(best_clf)).fit(X_train, y_train)\n",
    "end = time()\n",
    "train_time_full = end - start\n",
    "\n",
    "# Make new predictions\n",
    "start = time()\n",
    "full_predictions = full_clf.predict(X_test)\n",
    "end = time()\n",
    "test_time_full = end - start\n",
    "\n",
    "# Train on the \"best\" model found from grid search earlier\n",
    "start = time()\n",
    "clf = (clone(best_clf)).fit(X_train_reduced, y_train)\n",
    "end = time()\n",
    "train_time_reduced = end - start\n",
    "\n",
    "# Make new predictions\n",
    "start = time()\n",
    "reduced_predictions = clf.predict(X_test_reduced)\n",
    "end = time()\n",
    "test_time_reduced = end - start\n",
    "\n",
    "# Report scores from the final model using both versions of data\n",
    "print \"Final Model trained on full data\\n------\"\n",
    "print \"Train time {} s, Test time {} s\".format(train_time_full, test_time_full)\n",
    "print \"Accuracy on testing data: {:.4f}\".format(accuracy_score(y_test, best_predictions))\n",
    "print \"F-score on testing data: {:.4f}\".format(fbeta_score(y_test, best_predictions, beta = 0.5))\n",
    "print \"\\nFinal Model trained on reduced data\\n------\"\n",
    "print \"Train time {} s, Test time {} s\".format(train_time_reduced, test_time_reduced)\n",
    "print \"Accuracy on testing data: {:.4f}\".format(accuracy_score(y_test, reduced_predictions))\n",
    "print \"F-score on testing data: {:.4f}\".format(fbeta_score(y_test, reduced_predictions, beta = 0.5))"
   ]
  },
  {
   "cell_type": "markdown",
   "metadata": {},
   "source": [
    "### Question 8 - Effects of Feature Selection\n",
    "*How does the final model's F-score and accuracy score on the reduced data using only five features compare to those same scores when all features are used?*  \n",
    "*If training time was a factor, would you consider using the reduced data as your training set?*"
   ]
  },
  {
   "cell_type": "markdown",
   "metadata": {},
   "source": [
    "**Answer:**\n",
    "On the reduced number of feature data both the accuracy score and F-Score decreased,hence definitely the model with the full data has better predictive ability.\n",
    "\n",
    "However if training time is a factor then I will be using the model with reduced feature data as it is taking very less time comapre to full feature model in both traing and testing."
   ]
  },
  {
   "cell_type": "markdown",
   "metadata": {},
   "source": [
    "> **Note**: Once you have completed all of the code implementations and successfully answered each question above, you may finalize your work by exporting the iPython Notebook as an HTML document. You can do this by using the menu above and navigating to  \n",
    "**File -> Download as -> HTML (.html)**. Include the finished document along with this notebook as your submission."
   ]
  }
 ],
 "metadata": {
  "anaconda-cloud": {},
  "kernelspec": {
   "display_name": "Python [default]",
   "language": "python",
   "name": "python2"
  },
  "language_info": {
   "codemirror_mode": {
    "name": "ipython",
    "version": 2
   },
   "file_extension": ".py",
   "mimetype": "text/x-python",
   "name": "python",
   "nbconvert_exporter": "python",
   "pygments_lexer": "ipython2",
   "version": "2.7.12"
  }
 },
 "nbformat": 4,
 "nbformat_minor": 0
}
